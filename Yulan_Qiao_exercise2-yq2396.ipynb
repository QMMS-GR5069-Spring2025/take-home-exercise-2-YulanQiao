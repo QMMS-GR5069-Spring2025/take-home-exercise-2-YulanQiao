{
 "cells": [
  {
   "cell_type": "code",
   "execution_count": 0,
   "metadata": {
    "application/vnd.databricks.v1+cell": {
     "cellMetadata": {
      "byteLimit": 2048000,
      "rowLimit": 10000
     },
     "inputWidgets": {},
     "nuid": "803821a6-9f41-4b6b-a32c-c596436802d9",
     "showTitle": false,
     "tableResultSettingsMap": {},
     "title": ""
    }
   },
   "outputs": [],
   "source": [
    "from pyspark.sql.functions import col, avg\n",
    "from pyspark.sql.window import Window\n",
    "from pyspark.sql.functions import rank\n",
    "from pyspark.sql.functions import expr, col, coalesce, upper\n",
    "from pyspark.sql.functions import col, to_date, datediff, floor, row_number, count, when"
   ]
  },
  {
   "cell_type": "code",
   "execution_count": 0,
   "metadata": {
    "application/vnd.databricks.v1+cell": {
     "cellMetadata": {
      "byteLimit": 2048000,
      "rowLimit": 10000
     },
     "inputWidgets": {},
     "nuid": "24dec6de-ea75-4c93-bb8a-054c45386525",
     "showTitle": false,
     "tableResultSettingsMap": {},
     "title": ""
    }
   },
   "outputs": [],
   "source": [
    "df_pit_stops = spark.read.csv('s3://columbia-gr5069-main/raw/pit_stops.csv',header=True)\n",
    "df_results = spark.read.csv('s3://columbia-gr5069-main/raw/results.csv', header=True)\n",
    "df_drivers = spark.read.csv('s3://columbia-gr5069-main/raw/drivers.csv', header=True)\n",
    "df_races = spark.read.csv('s3://columbia-gr5069-main/raw/races.csv', header=True)\n",
    "df_status = spark.read.csv('s3://columbia-gr5069-main/raw/status.csv', header=True, inferSchema=True)\n"
   ]
  },
  {
   "cell_type": "code",
   "execution_count": 0,
   "metadata": {
    "application/vnd.databricks.v1+cell": {
     "cellMetadata": {
      "byteLimit": 2048000,
      "rowLimit": 10000
     },
     "inputWidgets": {},
     "nuid": "60a67e51-e876-438a-88b7-0021770f4a11",
     "showTitle": false,
     "tableResultSettingsMap": {},
     "title": ""
    }
   },
   "outputs": [],
   "source": [
    "# Q1 What was the average time each driver spent at the pit stop for each race?\n",
    "df_pit_stops = df_pit_stops.withColumn(\"milliseconds\", col(\"milliseconds\").cast(\"double\"))\n",
    "\n",
    "avg_pit_stop_time = df_pit_stops.groupBy(\"raceId\", \"driverId\").agg(avg(\"milliseconds\").alias(\"avg_pit_stop_time\"))\n",
    "\n",
    "display(avg_pit_stop_time)"
   ]
  },
  {
   "cell_type": "code",
   "execution_count": 0,
   "metadata": {
    "application/vnd.databricks.v1+cell": {
     "cellMetadata": {
      "byteLimit": 2048000,
      "rowLimit": 10000
     },
     "inputWidgets": {},
     "nuid": "aaca6102-e6fd-4978-bd57-27d09bcf2706",
     "showTitle": false,
     "tableResultSettingsMap": {},
     "title": ""
    }
   },
   "outputs": [],
   "source": [
    "# Q2 Rank the average time spent at the pit stop in order of who won each race\n",
    "# I filter out those drivers who did not finish the race\n",
    "\n",
    "# Join avg_pit_stop_time with df_results to get finishing order\n",
    "df_joined = avg_pit_stop_time.join(df_results, on=[\"raceId\", \"driverId\"])\n",
    "\n",
    "# Define window specification to rank based on finishing order\n",
    "window_spec = Window.partitionBy(\"raceId\").orderBy(\"positionOrder\")\n",
    "\n",
    "# Rank the average pit stop times based on finishing order\n",
    "df_ranked = df_joined.withColumn(\"rank\", rank().over(window_spec))\n",
    "df_ranked = df_ranked.filter(df_ranked[\"positionOrder\"].isNotNull())\n",
    "\n",
    "display(df_ranked.select(\"raceId\", \"driverId\", \"avg_pit_stop_time\", \"positionOrder\", \"rank\"))"
   ]
  },
  {
   "cell_type": "code",
   "execution_count": 0,
   "metadata": {
    "application/vnd.databricks.v1+cell": {
     "cellMetadata": {
      "byteLimit": 2048000,
      "rowLimit": 10000
     },
     "inputWidgets": {},
     "nuid": "3bbedd5c-7de8-48fe-b85e-2bd85c8d0304",
     "showTitle": false,
     "tableResultSettingsMap": {},
     "title": ""
    }
   },
   "outputs": [],
   "source": [
    "# Q3: Insert the missing code (e.g: ALO for Alonso) for drivers based on the 'drivers' dataset\n",
    "\n",
    "# Replace '\\N' with None \n",
    "df_drivers_clean = df_drivers.replace('\\\\N', None)\n",
    "\n",
    "# Filter for drivers with missing code\n",
    "df_missing_codes = df_drivers_clean.filter(col(\"code\").isNull())\n",
    "\n",
    "# Create a new code using the first 3 letters of the surname\n",
    "df_missing_codes = df_missing_codes.withColumn(\"code\", upper(expr(\"substring(surname, 1, 3)\")))\n",
    "\n",
    "# Join back to update the original DataFrame\n",
    "df_drivers_updated = df_drivers_clean.join(\n",
    "    df_missing_codes.select(\"driverId\", \"code\").withColumnRenamed(\"code\", \"new_code\"),\n",
    "    on=\"driverId\", how=\"left\"\n",
    ")\n",
    "\n",
    "# Use coalesce to keep original code if it exists, or use the new one\n",
    "df_drivers_updated = df_drivers_updated.withColumn(\n",
    "    \"code\", coalesce(col(\"code\"), col(\"new_code\"))\n",
    ").drop(\"new_code\")\n",
    "\n",
    "# Display the result\n",
    "display(df_drivers_updated)"
   ]
  },
  {
   "cell_type": "code",
   "execution_count": 0,
   "metadata": {
    "application/vnd.databricks.v1+cell": {
     "cellMetadata": {
      "byteLimit": 2048000,
      "rowLimit": 10000
     },
     "inputWidgets": {},
     "nuid": "1c6eafab-f2f0-42d8-8d3c-b4ee4165350c",
     "showTitle": false,
     "tableResultSettingsMap": {},
     "title": ""
    }
   },
   "outputs": [],
   "source": [
    "# Q4: Who is the youngest and oldest driver for each race? Create a new column called “Age”\n",
    "\n",
    "# Clean and convert date fields\n",
    "df_drivers = df_drivers.replace('\\\\N', None).withColumn(\"dob\", to_date(\"dob\"))\n",
    "df_races = df_races.withColumn(\"date\", to_date(\"date\"))\n",
    "\n",
    "# Join drivers, results, and races\n",
    "df_all = df_results.select(\"raceId\", \"driverId\") \\\n",
    "    .join(df_races.select(\"raceId\", \"date\", \"name\"), on=\"raceId\", how=\"left\") \\\n",
    "    .join(df_drivers.select(\"driverId\", \"surname\", \"dob\"), on=\"driverId\", how=\"left\")\n",
    "\n",
    "# Calculate Age on race day\n",
    "df_all = df_all.withColumn(\"Age\", floor(datediff(col(\"date\"), col(\"dob\")) / 365.25))\n",
    "\n",
    "#  Use window functions to rank by Age within each race\n",
    "window_young = Window.partitionBy(\"raceId\").orderBy(col(\"Age\").asc())\n",
    "window_old = Window.partitionBy(\"raceId\").orderBy(col(\"Age\").desc())\n",
    "\n",
    "# Find youngest driver per race\n",
    "df_youngest = df_all.withColumn(\"rank_young\", row_number().over(window_young)) \\\n",
    "                    .filter(col(\"rank_young\") == 1) \\\n",
    "                    .select(\"raceId\", \"name\", \"surname\", \"Age\") \\\n",
    "                    .withColumnRenamed(\"surname\", \"Youngest\") \\\n",
    "                    .withColumnRenamed(\"Age\", \"Youngest_Age\")\n",
    "\n",
    "#  Find oldest driver per race\n",
    "df_oldest = df_all.withColumn(\"rank_old\", row_number().over(window_old)) \\\n",
    "                  .filter(col(\"rank_old\") == 1) \\\n",
    "                  .select(\"raceId\", \"surname\", \"Age\") \\\n",
    "                  .withColumnRenamed(\"surname\", \"Oldest\") \\\n",
    "                  .withColumnRenamed(\"Age\", \"Oldest_Age\")\n",
    "\n",
    "# Combine youngest + oldest results\n",
    "df_age_extremes = df_youngest.join(df_oldest, on=\"raceId\")\n",
    "\n",
    "#  Display the result\n",
    "display(df_age_extremes)"
   ]
  },
  {
   "cell_type": "code",
   "execution_count": 0,
   "metadata": {
    "application/vnd.databricks.v1+cell": {
     "cellMetadata": {
      "byteLimit": 2048000,
      "rowLimit": 10000
     },
     "inputWidgets": {},
     "nuid": "8e8c5d35-d9c1-4c44-bfc2-d32ded6ef7f5",
     "showTitle": false,
     "tableResultSettingsMap": {},
     "title": ""
    }
   },
   "outputs": [],
   "source": [
    "# Q4: For a given race, which driver has the most wins and losses? Race 100/DriverID 4\n",
    "\n",
    "# Clean and prepare race date\n",
    "df_races = df_races.withColumn(\"date\", to_date(col(\"date\")))\n",
    "\n",
    "# Join race and status info\n",
    "df_all = df_results.join(df_races.select(\"raceId\", \"date\"), on=\"raceId\", how=\"left\") \\\n",
    "                   .join(df_status, on=\"statusId\", how=\"left\")\n",
    "\n",
    "# Define window ordered by race date for each driver\n",
    "history_window = Window.partitionBy(\"driverId\").orderBy(\"date\").rowsBetween(Window.unboundedPreceding, -1)\n",
    "\n",
    "# Calculate previous wins and completed (non-win) races\n",
    "df_all = df_all.withColumn(\"prev_wins\", count(when(col(\"positionOrder\") == 1, 1)).over(history_window)) \\\n",
    "               .withColumn(\"prev_losses\", count(\n",
    "                   when((col(\"positionOrder\") > 1) & (col(\"status\") == \"Finished\"), 1)\n",
    "               ).over(history_window))\n",
    "\n",
    "# Filter to Race 100 and Driver ID 4\n",
    "df_final = df_all.filter((col(\"raceId\") == 100) & (col(\"driverId\") == 4))\n",
    "\n",
    "# Add name (optional)\n",
    "df_final = df_final.join(df_drivers.select(\"driverId\", \"surname\"), on=\"driverId\", how=\"left\")\n",
    "\n",
    "# Display the result\n",
    "df_final.select(\"driverId\", \"surname\", \"prev_wins\", \"prev_losses\").show()\n"
   ]
  },
  {
   "cell_type": "code",
   "execution_count": 0,
   "metadata": {
    "application/vnd.databricks.v1+cell": {
     "cellMetadata": {
      "byteLimit": 2048000,
      "rowLimit": 10000
     },
     "inputWidgets": {},
     "nuid": "7439f04e-1b3e-4916-933f-9d1b61a59c8d",
     "showTitle": false,
     "tableResultSettingsMap": {},
     "title": ""
    }
   },
   "outputs": [],
   "source": [
    "# Q5: Which driver had the most race completions (finishes) in each season?\n",
    "\n",
    "\n",
    "# Join results with status and races\n",
    "df = df_results.join(df_status, on=\"statusId\", how=\"left\") \\\n",
    "               .join(df_races.select(\"raceId\", \"year\"), on=\"raceId\", how=\"left\")\n",
    "\n",
    "# Filter only finished races\n",
    "df_finished = df.filter(col(\"status\") == \"Finished\")\n",
    "\n",
    "# Count finishes per driver per year\n",
    "df_finishes = df_finished.groupBy(\"year\", \"driverId\") \\\n",
    "                         .agg(count(\"*\").alias(\"num_finishes\"))\n",
    "\n",
    "# Get driver with most finishes per year\n",
    "window = Window.partitionBy(\"year\").orderBy(col(\"num_finishes\").desc())\n",
    "df_top = df_finishes.withColumn(\"rank\", row_number().over(window)) \\\n",
    "                    .filter(col(\"rank\") == 1)\n",
    "\n",
    "# Add driver names\n",
    "df_top_named = df_top.join(df_drivers.select(\"driverId\", \"surname\"), on=\"driverId\", how=\"left\") \\\n",
    "                     .select(\"year\", \"surname\", \"num_finishes\")\n",
    "\n",
    "# Display\n",
    "display(df_top_named.orderBy(\"year\"))\n"
   ]
  },
  {
   "cell_type": "code",
   "execution_count": 0,
   "metadata": {
    "application/vnd.databricks.v1+cell": {
     "cellMetadata": {},
     "inputWidgets": {},
     "nuid": "81f6f5df-4bbf-4f40-bb1c-098b3c44ceac",
     "showTitle": false,
     "tableResultSettingsMap": {},
     "title": ""
    }
   },
   "outputs": [],
   "source": []
  }
 ],
 "metadata": {
  "application/vnd.databricks.v1+notebook": {
   "computePreferences": null,
   "dashboards": [],
   "environmentMetadata": {
    "base_environment": "",
    "environment_version": "2"
   },
   "language": "python",
   "notebookMetadata": {
    "pythonIndentUnit": 4
   },
   "notebookName": "Yulan_Qiao_exercise2-yq2396",
   "widgets": {}
  },
  "language_info": {
   "name": "python"
  }
 },
 "nbformat": 4,
 "nbformat_minor": 0
}
